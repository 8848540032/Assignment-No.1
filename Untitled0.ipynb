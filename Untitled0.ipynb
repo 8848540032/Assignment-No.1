{
  "nbformat": 4,
  "nbformat_minor": 0,
  "metadata": {
    "colab": {
      "name": "Untitled0.ipynb",
      "provenance": [],
      "authorship_tag": "ABX9TyOzr0lCHXbn5hOSEJzit4jN",
      "include_colab_link": true
    },
    "kernelspec": {
      "name": "python3",
      "display_name": "Python 3"
    },
    "language_info": {
      "name": "python"
    }
  },
  "cells": [
    {
      "cell_type": "markdown",
      "metadata": {
        "id": "view-in-github",
        "colab_type": "text"
      },
      "source": [
        "<a href=\"https://colab.research.google.com/github/8848540032/Assignment-No.1/blob/main/Untitled0.ipynb\" target=\"_parent\"><img src=\"https://colab.research.google.com/assets/colab-badge.svg\" alt=\"Open In Colab\"/></a>"
      ]
    },
    {
      "cell_type": "code",
      "metadata": {
        "colab": {
          "base_uri": "https://localhost:8080/"
        },
        "id": "p-jE7hF05xf3",
        "outputId": "24efc2e3-7d17-4f32-f15d-56177bc9620c"
      },
      "source": [
        " \n",
        "A= int(input(\"Hello pilot! Give us your current Altitude:\"))\n",
        " \n",
        "if A <=  3000:\n",
        "        print(\"You can land this airport safely\")\n",
        "    \n",
        "elif A < 6000 > 3000:\n",
        "        print(\"You could give a try to land this airport safely\")\n",
        " \n",
        "else:\n",
        "        print(\"GO AROUND!!\")"
      ],
      "execution_count": 1,
      "outputs": [
        {
          "output_type": "stream",
          "text": [
            "Hello pilot! Give us your current Altitude:5000\n",
            "You could give a try to land this airport safely\n"
          ],
          "name": "stdout"
        }
      ]
    }
  ]
}